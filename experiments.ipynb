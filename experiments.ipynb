{
 "cells": [
  {
   "cell_type": "code",
   "execution_count": 4,
   "metadata": {},
   "outputs": [
    {
     "name": "stdout",
     "output_type": "stream",
     "text": [
      "It looks like the context refers to a document about quantum mechanics titled \"scientific_test_pdf-1.pdf.\" The document contains repeated text describing quantum mechanics as a fundamental theory in physics. If you have specific questions about the document or its content, feel free to ask!\n"
     ]
    }
   ],
   "source": [
    "from openai import OpenAI\n",
    "import requests\n",
    "import json\n",
    "from dotenv import load_dotenv\n",
    "import os\n",
    "\n",
    "def query_remote_vector_db(url, query, api_key, collections=None):\n",
    "    endpoint = url + '/query'\n",
    "\n",
    "    data = {\n",
    "        'query' : query\n",
    "    }\n",
    "    \n",
    "    if collections:\n",
    "        data['collections'] = collections\n",
    "\n",
    "    headers = {\n",
    "        'Content-Type' : 'application/json',\n",
    "        'x-api-key' : api_key\n",
    "    }\n",
    "\n",
    "    return requests.post(endpoint, json=data, headers=headers).json()"
   ]
  },
  {
   "cell_type": "code",
   "execution_count": null,
   "metadata": {},
   "outputs": [],
   "source": [
    "load_dotenv()\n",
    "\n",
    "client = OpenAI()\n",
    "\n",
    "api_key = os.environ.get('API_KEYS')\n",
    "url = os.getenv(\"API_URL\", '')\n",
    "\n",
    "user_query = \"Do you have knowledge of any files?\"\n",
    "\n",
    "context = query_remote_vector_db(url, user_query, api_key)\n",
    "\n",
    "inp = f\"\"\"\n",
    "\n",
    "Here is a user request:\n",
    "{user_query}\n",
    "\n",
    "Context Dump:\n",
    "{json.dumps(context)}\n",
    "\"\"\"\n",
    "\n",
    "response = client.responses.create(\n",
    "    model=\"gpt-4o\",\n",
    "    input=inp\n",
    ")\n",
    "\n",
    "print(response.output_text)"
   ]
  }
 ],
 "metadata": {
  "kernelspec": {
   "display_name": "knowledge_manager",
   "language": "python",
   "name": "python3"
  },
  "language_info": {
   "codemirror_mode": {
    "name": "ipython",
    "version": 3
   },
   "file_extension": ".py",
   "mimetype": "text/x-python",
   "name": "python",
   "nbconvert_exporter": "python",
   "pygments_lexer": "ipython3",
   "version": "3.11.13"
  },
  "orig_nbformat": 4
 },
 "nbformat": 4,
 "nbformat_minor": 2
}
