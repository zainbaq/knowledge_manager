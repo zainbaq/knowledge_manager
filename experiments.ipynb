{
 "cells": [
  {
   "cell_type": "code",
   "execution_count": 1,
   "metadata": {},
   "outputs": [],
   "source": [
    "from openai import OpenAI\n",
    "import requests\n",
    "import json\n",
    "from dotenv import load_dotenv\n",
    "import os\n",
    "\n",
    "def query_remote_vector_db(url, query, api_key, collections=None):\n",
    "    endpoint = url + '/query'\n",
    "\n",
    "    data = {\n",
    "        'query' : query\n",
    "    }\n",
    "    \n",
    "    if collections:\n",
    "        data['collections'] = collections\n",
    "\n",
    "    headers = {\n",
    "        'Content-Type' : 'application/json',\n",
    "        'x-api-key' : api_key\n",
    "    }\n",
    "\n",
    "    return requests.post(endpoint, json=data, headers=headers).json()"
   ]
  },
  {
   "cell_type": "code",
   "execution_count": 3,
   "metadata": {},
   "outputs": [
    {
     "name": "stdout",
     "output_type": "stream",
     "text": [
      "Zain Baquar is a Data Scientist, Software Engineer, and Machine Learning Engineer. He has expertise in Python, machine learning frameworks like TensorFlow and PyTorch, and various tools including Docker, AWS, and SQL. He has worked on projects involving GPT applications, such as a Retrieval-Augmented Generation framework, and developed tools like WebGPT and QueryGPT. Currently, he is involved in building a brain-computer interface and working on medical machine learning applications. He holds a B.S. in Cognitive Science with a focus on Machine Learning & Neural Computation from UCSD. Professionally, he has held roles as a Machine Learning Operations Engineer at Regeneron Pharmaceuticals and Senior Software Engineer at Visionet Systems Inc, with experience in MLOps, customer segmentation, and predictive modeling.\n"
     ]
    }
   ],
   "source": [
    "load_dotenv()\n",
    "\n",
    "client = OpenAI()\n",
    "\n",
    "api_key = os.getenv('API_KEYS', '')\n",
    "url = os.getenv(\"API_URL\", '')\n",
    "\n",
    "user_query = \"What do yoou know about Zain Baquuar?\"\n",
    "\n",
    "context = query_remote_vector_db(url, user_query, api_key)\n",
    "\n",
    "inp = f\"\"\"\n",
    "\n",
    "Here is a user request:\n",
    "{user_query}\n",
    "\n",
    "Context Dump:\n",
    "{json.dumps(context)}\n",
    "\"\"\"\n",
    "\n",
    "response = client.responses.create(\n",
    "    model=\"gpt-4o\",\n",
    "    input=inp\n",
    ")\n",
    "\n",
    "print(response.output_text)"
   ]
  },
  {
   "cell_type": "code",
   "execution_count": null,
   "metadata": {},
   "outputs": [],
   "source": []
  }
 ],
 "metadata": {
  "kernelspec": {
   "display_name": "knowledge_manager",
   "language": "python",
   "name": "python3"
  },
  "language_info": {
   "codemirror_mode": {
    "name": "ipython",
    "version": 3
   },
   "file_extension": ".py",
   "mimetype": "text/x-python",
   "name": "python",
   "nbconvert_exporter": "python",
   "pygments_lexer": "ipython3",
   "version": "3.11.13"
  },
  "orig_nbformat": 4
 },
 "nbformat": 4,
 "nbformat_minor": 2
}
