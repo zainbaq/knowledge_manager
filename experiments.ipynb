{
 "cells": [
  {
   "cell_type": "code",
   "execution_count": 1,
   "metadata": {},
   "outputs": [],
   "source": [
    "from ingestion.file_loader import collect_files_from_path, extract_text_from_file\n",
    "from ingestion.chunker import simple_text_chunker\n",
    "from vector_store.embedder import get_openai_embedding\n",
    "from vector_store.vector_index import add_documents_to_index\n",
    "import uuid\n",
    "\n",
    "def ingest_path(path, collection_name=\"default\"):\n",
    "    files = collect_files_from_path(path)\n",
    "    all_chunks, all_metas, all_ids, all_embeddings = [], [], [], []\n",
    "\n",
    "    for file in files:\n",
    "        content = extract_text_from_file(file)\n",
    "        if not content:\n",
    "            print(f\"Skipped empty or unreadable file: {file}\")\n",
    "            continue\n",
    "\n",
    "        chunks = simple_text_chunker(content)\n",
    "        for i, chunk in enumerate(chunks):\n",
    "            try:\n",
    "                embedding = get_openai_embedding(chunk)\n",
    "            except Exception as e:\n",
    "                print(f\"Embedding failed for chunk {i} in {file}: {e}\")\n",
    "                continue\n",
    "\n",
    "            all_chunks.append(chunk)\n",
    "            all_embeddings.append(embedding)\n",
    "            all_metas.append({\n",
    "                \"source\": str(file),\n",
    "                \"chunk_index\": i\n",
    "            })\n",
    "            all_ids.append(str(uuid.uuid4()))\n",
    "\n",
    "    if all_chunks:\n",
    "        add_documents_to_index(\n",
    "            collection_name,\n",
    "            documents=all_chunks,\n",
    "            embeddings=all_embeddings,\n",
    "            metadatas=all_metas,\n",
    "            ids=all_ids\n",
    "        )\n",
    "        print(f\"Ingested {len(all_chunks)} chunks into '{collection_name}' index.\")\n",
    "    else:\n",
    "        print(\"No valid content was ingested.\")\n",
    "\n",
    "from vector_store.vector_index import query_index, compile_context\n",
    "\n",
    "def get_context(query, collection_name='default'):\n",
    "    results = query_index(collection_name, query)\n",
    "    return compile_context(results)"
   ]
  },
  {
   "cell_type": "code",
   "execution_count": 2,
   "metadata": {},
   "outputs": [
    {
     "name": "stdout",
     "output_type": "stream",
     "text": [
      "Ingested 3 chunks into 'default' index.\n"
     ]
    }
   ],
   "source": [
    "path = './data/test_data/'\n",
    "ingest_path(path)"
   ]
  },
  {
   "cell_type": "code",
   "execution_count": 7,
   "metadata": {},
   "outputs": [],
   "source": [
    "context = get_context('docx')"
   ]
  },
  {
   "cell_type": "code",
   "execution_count": 8,
   "metadata": {},
   "outputs": [
    {
     "data": {
      "text/plain": [
       "['Test DOCX Document\\nThis is a paragraph from a test DOCX file.\\nIt is being used to validate document ingestion and chunking.']"
      ]
     },
     "execution_count": 8,
     "metadata": {},
     "output_type": "execute_result"
    }
   ],
   "source": [
    "context"
   ]
  },
  {
   "cell_type": "code",
   "execution_count": null,
   "metadata": {},
   "outputs": [],
   "source": []
  }
 ],
 "metadata": {
  "kernelspec": {
   "display_name": "knowledge_manager",
   "language": "python",
   "name": "python3"
  },
  "language_info": {
   "codemirror_mode": {
    "name": "ipython",
    "version": 3
   },
   "file_extension": ".py",
   "mimetype": "text/x-python",
   "name": "python",
   "nbconvert_exporter": "python",
   "pygments_lexer": "ipython3",
   "version": "3.11.13"
  },
  "orig_nbformat": 4
 },
 "nbformat": 4,
 "nbformat_minor": 2
}
